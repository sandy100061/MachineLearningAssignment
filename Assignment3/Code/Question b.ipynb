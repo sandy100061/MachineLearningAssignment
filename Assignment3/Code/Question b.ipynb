{
  "nbformat": 4,
  "nbformat_minor": 0,
  "metadata": {
    "colab": {
      "provenance": [],
      "authorship_tag": "ABX9TyO9VW3PLTxtAHSZuCLwS6Pq",
      "include_colab_link": true
    },
    "kernelspec": {
      "name": "python3",
      "display_name": "Python 3"
    },
    "language_info": {
      "name": "python"
    }
  },
  "cells": [
    {
      "cell_type": "markdown",
      "metadata": {
        "id": "view-in-github",
        "colab_type": "text"
      },
      "source": [
        "<a href=\"https://colab.research.google.com/github/sandy100061/MachineLearningAssignment/blob/main/Assignment3/Code/Question%20b.ipynb\" target=\"_parent\"><img src=\"https://colab.research.google.com/assets/colab-badge.svg\" alt=\"Open In Colab\"/></a>"
      ]
    },
    {
      "cell_type": "code",
      "execution_count": 7,
      "metadata": {
        "colab": {
          "base_uri": "https://localhost:8080/"
        },
        "id": "_bebLtqLGxuG",
        "outputId": "82019b89-d8cc-4e2b-9901-5cccca71423c"
      },
      "outputs": [
        {
          "output_type": "stream",
          "name": "stdout",
          "text": [
            "1.b Array: \n",
            " [[14  6 18]\n",
            " [17 18  7]\n",
            " [19  2  6]\n",
            " [14  6 16]]\n",
            "1.b Array shape:  (4, 3)\n",
            "1.b Array type:  <class 'numpy.ndarray'>\n",
            "1.b Array data type:  int32\n",
            "1.b Eigenvalues: \n",
            " [2. 1.]\n",
            "1.b Eigenvectors: \n",
            " [[0.89442719 0.70710678]\n",
            " [0.4472136  0.70710678]]\n"
          ]
        }
      ],
      "source": [
        "import numpy as npy;\n",
        "\n",
        "# 1.b compute the eigenvalues and right eigenvectors of a given square array\n",
        "array = npy.random.randint(1, 20, (4, 3), dtype=npy.int32)\n",
        "print (\"1.b Array: \\n\", array)\n",
        "print (\"1.b Array shape: \", array.shape)\n",
        "print (\"1.b Array type: \", type(array))\n",
        "print (\"1.b Array data type: \", array.dtype)\n",
        "\n",
        "newArray = npy.array([[3, -2], [1, 0]])\n",
        "eigenvalues, eigenvectors = npy.linalg.eig(newArray)\n",
        "print (\"1.b Eigenvalues: \\n\", eigenvalues)\n",
        "print (\"1.b Eigenvectors: \\n\", eigenvectors)"
      ]
    }
  ]
}